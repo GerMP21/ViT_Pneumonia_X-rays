{
 "cells": [
  {
   "cell_type": "markdown",
   "id": "a53ff54f",
   "metadata": {
    "papermill": {
     "duration": 0.010896,
     "end_time": "2023-12-18T22:14:32.794569",
     "exception": false,
     "start_time": "2023-12-18T22:14:32.783673",
     "status": "completed"
    },
    "tags": []
   },
   "source": [
    "# Visual Transformer, Detecting Pneumonia in X-rays"
   ]
  },
  {
   "cell_type": "markdown",
   "id": "d29187a3",
   "metadata": {
    "id": "mnjw417zYu4l",
    "papermill": {
     "duration": 0.008066,
     "end_time": "2023-12-18T22:14:32.811676",
     "exception": false,
     "start_time": "2023-12-18T22:14:32.803610",
     "status": "completed"
    },
    "tags": []
   },
   "source": [
    "## Imports"
   ]
  },
  {
   "cell_type": "code",
   "execution_count": 1,
   "id": "926fb37b",
   "metadata": {
    "_cell_guid": "b1076dfc-b9ad-4769-8c92-a6c4dae69d19",
    "_uuid": "8f2839f25d086af736a60e9eeb907d3b93b6e0e5",
    "execution": {
     "iopub.execute_input": "2023-12-18T22:14:32.830154Z",
     "iopub.status.busy": "2023-12-18T22:14:32.829760Z",
     "iopub.status.idle": "2023-12-18T22:14:57.090588Z",
     "shell.execute_reply": "2023-12-18T22:14:57.089398Z"
    },
    "id": "eSyhLJeYYu4o",
    "outputId": "42015d61-d274-4523-f1a3-587a6433d1dc",
    "papermill": {
     "duration": 24.273409,
     "end_time": "2023-12-18T22:14:57.093523",
     "exception": false,
     "start_time": "2023-12-18T22:14:32.820114",
     "status": "completed"
    },
    "tags": []
   },
   "outputs": [
    {
     "name": "stdout",
     "output_type": "stream",
     "text": [
      "Collecting einops\r\n",
      "  Downloading einops-0.7.0-py3-none-any.whl (44 kB)\r\n",
      "\u001b[2K     \u001b[90m━━━━━━━━━━━━━━━━━━━━━━━━━━━━━━━━━━━━━━━━\u001b[0m \u001b[32m44.6/44.6 kB\u001b[0m \u001b[31m3.8 MB/s\u001b[0m eta \u001b[36m0:00:00\u001b[0m\r\n",
      "\u001b[?25hInstalling collected packages: einops\r\n",
      "Successfully installed einops-0.7.0\r\n",
      "Note: you may need to restart the kernel to use updated packages.\n"
     ]
    },
    {
     "name": "stderr",
     "output_type": "stream",
     "text": [
      "/opt/conda/lib/python3.10/site-packages/scipy/__init__.py:146: UserWarning: A NumPy version >=1.16.5 and <1.23.0 is required for this version of SciPy (detected version 1.23.5\n",
      "  warnings.warn(f\"A NumPy version >={np_minversion} and <{np_maxversion}\"\n",
      "/opt/conda/lib/python3.10/site-packages/tensorflow_io/python/ops/__init__.py:98: UserWarning: unable to load libtensorflow_io_plugins.so: unable to open file: libtensorflow_io_plugins.so, from paths: ['/opt/conda/lib/python3.10/site-packages/tensorflow_io/python/ops/libtensorflow_io_plugins.so']\n",
      "caused by: ['/opt/conda/lib/python3.10/site-packages/tensorflow_io/python/ops/libtensorflow_io_plugins.so: undefined symbol: _ZN3tsl6StatusC1EN10tensorflow5error4CodeESt17basic_string_viewIcSt11char_traitsIcEENS_14SourceLocationE']\n",
      "  warnings.warn(f\"unable to load libtensorflow_io_plugins.so: {e}\")\n",
      "/opt/conda/lib/python3.10/site-packages/tensorflow_io/python/ops/__init__.py:104: UserWarning: file system plugins are not loaded: unable to open file: libtensorflow_io.so, from paths: ['/opt/conda/lib/python3.10/site-packages/tensorflow_io/python/ops/libtensorflow_io.so']\n",
      "caused by: ['/opt/conda/lib/python3.10/site-packages/tensorflow_io/python/ops/libtensorflow_io.so: undefined symbol: _ZTVN10tensorflow13GcsFileSystemE']\n",
      "  warnings.warn(f\"file system plugins are not loaded: {e}\")\n"
     ]
    }
   ],
   "source": [
    "%pip install einops\n",
    "import os\n",
    "import numpy as np\n",
    "import tensorflow as tf\n",
    "from tensorflow.keras import Model\n",
    "from tensorflow.keras.layers import Layer\n",
    "from tensorflow.keras import Sequential\n",
    "from  tensorflow.keras import layers\n",
    "from tensorflow import einsum\n",
    "from einops import rearrange, repeat\n",
    "from einops.layers.tensorflow import Rearrange\n",
    "import cv2"
   ]
  },
  {
   "cell_type": "markdown",
   "id": "941713f7",
   "metadata": {
    "id": "yqzLw9p-Yu4r",
    "papermill": {
     "duration": 0.008861,
     "end_time": "2023-12-18T22:14:57.111655",
     "exception": false,
     "start_time": "2023-12-18T22:14:57.102794",
     "status": "completed"
    },
    "tags": []
   },
   "source": [
    "## Helper Function"
   ]
  },
  {
   "cell_type": "markdown",
   "id": "89d16adf",
   "metadata": {
    "id": "65mEU3vFYu4t",
    "papermill": {
     "duration": 0.008681,
     "end_time": "2023-12-18T22:14:57.129483",
     "exception": false,
     "start_time": "2023-12-18T22:14:57.120802",
     "status": "completed"
    },
    "tags": []
   },
   "source": [
    "This function will be used to make sure that input dimensions are represented as tuples (height, width) when needed."
   ]
  },
  {
   "cell_type": "code",
   "execution_count": 2,
   "id": "40be5d62",
   "metadata": {
    "execution": {
     "iopub.execute_input": "2023-12-18T22:14:57.150072Z",
     "iopub.status.busy": "2023-12-18T22:14:57.149258Z",
     "iopub.status.idle": "2023-12-18T22:14:57.154967Z",
     "shell.execute_reply": "2023-12-18T22:14:57.153947Z"
    },
    "id": "pbiL7h4rYu4u",
    "papermill": {
     "duration": 0.018613,
     "end_time": "2023-12-18T22:14:57.157231",
     "exception": false,
     "start_time": "2023-12-18T22:14:57.138618",
     "status": "completed"
    },
    "tags": []
   },
   "outputs": [],
   "source": [
    "def pair(t):\n",
    "    return t if isinstance(t, tuple) else (t, t)"
   ]
  },
  {
   "cell_type": "markdown",
   "id": "9fe3444f",
   "metadata": {
    "id": "qSvqcMsIYu4v",
    "papermill": {
     "duration": 0.010048,
     "end_time": "2023-12-18T22:14:57.176419",
     "exception": false,
     "start_time": "2023-12-18T22:14:57.166371",
     "status": "completed"
    },
    "tags": []
   },
   "source": [
    "## PreNorm Layer"
   ]
  },
  {
   "cell_type": "markdown",
   "id": "765a0601",
   "metadata": {
    "id": "9DBfMwCWYu4w",
    "papermill": {
     "duration": 0.00874,
     "end_time": "2023-12-18T22:14:57.194071",
     "exception": false,
     "start_time": "2023-12-18T22:14:57.185331",
     "status": "completed"
    },
    "tags": []
   },
   "source": [
    "Custom layer representing the Pre-Normalization used within the transformer model. It takes the following parameter:\n",
    "* **fn**: The function to be applied to the normalized input. In the transformer, this function can be either the attention mechanism or the MLP.\n",
    "\n",
    "The call method is where the actual pre-normalization takes place. It takes the following parameters:\n",
    "* **x**: The input tensor passed through the layer normalization.\n",
    "* **training**: Used to enable/disable dropout layers based on the training mode."
   ]
  },
  {
   "cell_type": "code",
   "execution_count": 3,
   "id": "1a0156de",
   "metadata": {
    "execution": {
     "iopub.execute_input": "2023-12-18T22:14:57.213959Z",
     "iopub.status.busy": "2023-12-18T22:14:57.213558Z",
     "iopub.status.idle": "2023-12-18T22:14:57.220303Z",
     "shell.execute_reply": "2023-12-18T22:14:57.219143Z"
    },
    "id": "P8EXNYDOYu4x",
    "papermill": {
     "duration": 0.019431,
     "end_time": "2023-12-18T22:14:57.222519",
     "exception": false,
     "start_time": "2023-12-18T22:14:57.203088",
     "status": "completed"
    },
    "tags": []
   },
   "outputs": [],
   "source": [
    "class PreNorm(Layer):\n",
    "    def __init__(self, fn):\n",
    "        super(PreNorm, self).__init__()\n",
    "\n",
    "        self.norm = layers.LayerNormalization()\n",
    "        self.fn = fn\n",
    "\n",
    "    def call(self, x, training=True):\n",
    "        return self.fn(self.norm(x), training=training)"
   ]
  },
  {
   "cell_type": "markdown",
   "id": "cc5297fd",
   "metadata": {
    "id": "r9gwpVR8Yu4y",
    "papermill": {
     "duration": 0.008963,
     "end_time": "2023-12-18T22:14:57.240688",
     "exception": false,
     "start_time": "2023-12-18T22:14:57.231725",
     "status": "completed"
    },
    "tags": []
   },
   "source": [
    "## Multi-Layer Perceptron Layer"
   ]
  },
  {
   "cell_type": "markdown",
   "id": "95b6cd77",
   "metadata": {
    "id": "3kjFqX-KYu4z",
    "papermill": {
     "duration": 0.008991,
     "end_time": "2023-12-18T22:14:57.259797",
     "exception": false,
     "start_time": "2023-12-18T22:14:57.250806",
     "status": "completed"
    },
    "tags": []
   },
   "source": [
    "Custom layer representing the Multi-Layer Perceptron used within the transformer model. It takes the following parameters:\n",
    "* **dim**: The output dimension of the MLP layer, which is also the input and output dimension of each transformer block in the ViT model.\n",
    "* **hidden_dim**: The dimension of the hidden layer in the MLP. It determines the intermediate dimension between the input and output of the two dense layers.\n",
    "* **dropout**: The dropout rate applied to the output of both dense layers in the MLP. By default, it is set to 0.0 (no dropout).\n",
    "\n",
    "The call method takes the following parameters:\n",
    "* **x**: The input tensor that is processed through the MLP.\n",
    "* **training**: Used to enable/disable dropout layers based on the training mode.\n",
    "\n",
    "The GELU activation function has two implementations: the approximate version and the exact version. The approximate flag can be set to True to use the approximate GELU. By default, the exact GELU is used."
   ]
  },
  {
   "cell_type": "code",
   "execution_count": 4,
   "id": "51eeed9d",
   "metadata": {
    "execution": {
     "iopub.execute_input": "2023-12-18T22:14:57.279773Z",
     "iopub.status.busy": "2023-12-18T22:14:57.279397Z",
     "iopub.status.idle": "2023-12-18T22:14:57.289677Z",
     "shell.execute_reply": "2023-12-18T22:14:57.288601Z"
    },
    "id": "8-IlpbXEYu40",
    "papermill": {
     "duration": 0.022881,
     "end_time": "2023-12-18T22:14:57.291801",
     "exception": false,
     "start_time": "2023-12-18T22:14:57.268920",
     "status": "completed"
    },
    "tags": []
   },
   "outputs": [],
   "source": [
    "class MLP(Layer):\n",
    "    def __init__(self, dim, hidden_dim, dropout=0.0):\n",
    "        super(MLP, self).__init__()\n",
    "\n",
    "        def GELU():\n",
    "            def gelu(x, approximate=False):\n",
    "                if approximate:\n",
    "                    coeff = tf.cast(0.044715, x.dtype)\n",
    "                    return 0.5 * x * (1.0 + tf.tanh(0.7978845608028654 * (x + coeff * tf.pow(x, 3))))\n",
    "                else:\n",
    "                    return 0.5 * x * (1.0 + tf.math.erf(x / tf.cast(1.4142135623730951, x.dtype)))\n",
    "\n",
    "            return layers.Activation(gelu)\n",
    "\n",
    "        self.net = Sequential([\n",
    "            layers.Dense(units=hidden_dim),\n",
    "            GELU(),\n",
    "            layers.Dropout(rate=dropout),\n",
    "            layers.Dense(units=dim),\n",
    "            layers.Dropout(rate=dropout)\n",
    "        ])\n",
    "\n",
    "    def call(self, x, training=True):\n",
    "        return self.net(x, training=training)"
   ]
  },
  {
   "cell_type": "markdown",
   "id": "d711a6ce",
   "metadata": {
    "id": "SdjWK0k-Yu41",
    "papermill": {
     "duration": 0.009103,
     "end_time": "2023-12-18T22:14:57.310130",
     "exception": false,
     "start_time": "2023-12-18T22:14:57.301027",
     "status": "completed"
    },
    "tags": []
   },
   "source": [
    "## Attention Layer"
   ]
  },
  {
   "cell_type": "markdown",
   "id": "7d2edbcd",
   "metadata": {
    "id": "mvKOaZnIYu41",
    "papermill": {
     "duration": 0.008561,
     "end_time": "2023-12-18T22:14:57.327685",
     "exception": false,
     "start_time": "2023-12-18T22:14:57.319124",
     "status": "completed"
    },
    "tags": []
   },
   "source": [
    "Custom layer representing the attention mechanism used in the transformer model. It takes the following parameters:\n",
    "* **dim**: The input and output dimension of the attention layer.\n",
    "* **heads**: The number of attention heads.\n",
    "* **dim_head**: The dimension of each attention head.\n",
    "* **dropout**: The dropout rate applied to the attention weights.\n",
    "\n",
    "The call method is where the actual attention calculation takes place. It takes the following parameters:\n",
    "* **x**: The input tensor passed through the layer normalization.\n",
    "* **training**: Used to enable/disable dropout layers based on the training mode.\n",
    "\n",
    "The Attention class uses two sub-layers:\n",
    "* **self.attend**: This is the softmax activation function, which calculates the attention weights using the dot products between queries and keys. The softmax ensures that the attention weights are normalized and sum up to 1.\n",
    "* **self.to_qkv**: This is a linear transformation layer without biases, projecting the input tensor **x** to the queries, keys, and values. The output dimension of this layer is inner_dim * 3, where inner_dim is the dimension of queries, keys, and values for multi-head attention.\n",
    "\n",
    "\n",
    "**self.to_out**: This is a list of layers used to project the attention output back to the original input dimension dim, followed by dropout. If project_out is False (which happens when there is only one attention head and its dimension is the same as dim), this layer is an empty list, indicating that no additional projection is needed."
   ]
  },
  {
   "cell_type": "code",
   "execution_count": 5,
   "id": "021e2a63",
   "metadata": {
    "execution": {
     "iopub.execute_input": "2023-12-18T22:14:57.346815Z",
     "iopub.status.busy": "2023-12-18T22:14:57.345799Z",
     "iopub.status.idle": "2023-12-18T22:14:57.356326Z",
     "shell.execute_reply": "2023-12-18T22:14:57.355559Z"
    },
    "id": "MB_iyPGeYu41",
    "papermill": {
     "duration": 0.022218,
     "end_time": "2023-12-18T22:14:57.358527",
     "exception": false,
     "start_time": "2023-12-18T22:14:57.336309",
     "status": "completed"
    },
    "tags": []
   },
   "outputs": [],
   "source": [
    "class Attention(Layer):\n",
    "    def __init__(self, dim, heads=8, dim_head=64, dropout=0.0):\n",
    "        super(Attention, self).__init__()\n",
    "        inner_dim = dim_head * heads\n",
    "        project_out = not (heads == 1 and dim_head == dim)\n",
    "\n",
    "        self.heads = heads\n",
    "        self.scale = dim_head ** -0.5\n",
    "\n",
    "        self.attend = layers.Softmax()\n",
    "        self.to_qkv = layers.Dense(units=inner_dim * 3, use_bias=False)\n",
    "\n",
    "        if project_out:\n",
    "            self.to_out = [\n",
    "                layers.Dense(units=dim),\n",
    "                layers.Dropout(rate=dropout)\n",
    "            ]\n",
    "        else:\n",
    "            self.to_out = []\n",
    "\n",
    "        self.to_out = Sequential(self.to_out)\n",
    "\n",
    "    def call(self, x, training=True):\n",
    "        qkv = self.to_qkv(x)\n",
    "        qkv = tf.split(qkv, num_or_size_splits=3, axis=-1)\n",
    "        q, k, v = map(lambda t: rearrange(t, 'b n (h d) -> b h n d', h=self.heads), qkv)\n",
    "\n",
    "        # dots = tf.matmul(q, tf.transpose(k, perm=[0, 1, 3, 2])) * self.scale\n",
    "        dots = einsum('b h i d, b h j d -> b h i j', q, k) * self.scale\n",
    "        attn = self.attend(dots)\n",
    "\n",
    "        # x = tf.matmul(attn, v)\n",
    "        x = einsum('b h i j, b h j d -> b h i d', attn, v)\n",
    "        x = rearrange(x, 'b h n d -> b n (h d)')\n",
    "        x = self.to_out(x, training=training)\n",
    "\n",
    "        return x"
   ]
  },
  {
   "cell_type": "markdown",
   "id": "6e4bcdd7",
   "metadata": {
    "id": "Ux7Gy6nHYu42",
    "papermill": {
     "duration": 0.008683,
     "end_time": "2023-12-18T22:14:57.376583",
     "exception": false,
     "start_time": "2023-12-18T22:14:57.367900",
     "status": "completed"
    },
    "tags": []
   },
   "source": [
    "## Transformer Layer"
   ]
  },
  {
   "cell_type": "markdown",
   "id": "ba7d5cc9",
   "metadata": {
    "id": "NzPl2ovbYu42",
    "papermill": {
     "duration": 0.008646,
     "end_time": "2023-12-18T22:14:57.394011",
     "exception": false,
     "start_time": "2023-12-18T22:14:57.385365",
     "status": "completed"
    },
    "tags": []
   },
   "source": [
    "Custom layer representing the core building block of the transformer model. It takes the following parameters:\n",
    "* **dim**: The output dimension of the transformer block.\n",
    "* **depth**: The number of transformer blocks to stack.\n",
    "* **heads**: The number of attention heads in the multi-head attention mechanism.\n",
    "* **dim_head**: The dimension of each attention head. The total dimension of queries, keys, and values will be dim_head * heads.\n",
    "* **mlp_dim**: The dimension of the hidden layer in the MLP used within the transformer block.\n",
    "* **dropout**: The dropout rate applied to the output of both attention and MLP layers in the transformer block.\n",
    "\n",
    "The call method is where the input tensor x is processed through the transformer blocks. It takes the following parameters:\n",
    "* **x**: The input tensor passed through the layer normalization.\n",
    "* **training**: Used to enable/disable dropout layers based on the training mode."
   ]
  },
  {
   "cell_type": "code",
   "execution_count": 6,
   "id": "a737d3c1",
   "metadata": {
    "execution": {
     "iopub.execute_input": "2023-12-18T22:14:57.413485Z",
     "iopub.status.busy": "2023-12-18T22:14:57.412798Z",
     "iopub.status.idle": "2023-12-18T22:14:57.420386Z",
     "shell.execute_reply": "2023-12-18T22:14:57.419362Z"
    },
    "id": "ziMqiwOHYu42",
    "papermill": {
     "duration": 0.01997,
     "end_time": "2023-12-18T22:14:57.422676",
     "exception": false,
     "start_time": "2023-12-18T22:14:57.402706",
     "status": "completed"
    },
    "tags": []
   },
   "outputs": [],
   "source": [
    "class Transformer(Layer):\n",
    "    def __init__(self, dim, depth, heads, dim_head, mlp_dim, dropout=0.0):\n",
    "        super(Transformer, self).__init__()\n",
    "\n",
    "        self.layers = []\n",
    "\n",
    "        for _ in range(depth):\n",
    "            self.layers.append([\n",
    "                PreNorm(Attention(dim, heads=heads, dim_head=dim_head, dropout=dropout)),\n",
    "                PreNorm(MLP(dim, mlp_dim, dropout=dropout))\n",
    "            ])\n",
    "\n",
    "    def call(self, x, training=True):\n",
    "        for attn, mlp in self.layers:\n",
    "            x = attn(x, training=training) + x\n",
    "            x = mlp(x, training=training) + x\n",
    "\n",
    "        return x"
   ]
  },
  {
   "cell_type": "markdown",
   "id": "199c2685",
   "metadata": {
    "id": "RErd-HmNYu42",
    "papermill": {
     "duration": 0.008597,
     "end_time": "2023-12-18T22:14:57.439856",
     "exception": false,
     "start_time": "2023-12-18T22:14:57.431259",
     "status": "completed"
    },
    "tags": []
   },
   "source": [
    "## Visual Transformer Model"
   ]
  },
  {
   "cell_type": "markdown",
   "id": "493876da",
   "metadata": {
    "id": "bmd98STlYu42",
    "papermill": {
     "duration": 0.008894,
     "end_time": "2023-12-18T22:14:57.457516",
     "exception": false,
     "start_time": "2023-12-18T22:14:57.448622",
     "status": "completed"
    },
    "tags": []
   },
   "source": [
    "Custom model representing the Vision Transformer model. It takes the following parameters:\n",
    "* **image_size**: The size of the input image. If you have rectangular images, the image_size should be the maximum of the width and height to maintain aspect ratio.\n",
    "* **patch_size**: The size of each patch in the image. The image_size must be divisible by patch_size. \n",
    "* **num_classes**: The number of classes to classify. It represents the output dimension of the final classification layer.\n",
    "* **dim**: The output dimension of the transformer block. This is usually the hidden dimension of the transformer.\n",
    "* **depth**: The number of transformer blocks to stack.\n",
    "* **heads**: The number of attention heads in the multi-head attention mechanism.\n",
    "* **mlp_dim**: The dimension of the hidden layer in the MLP used within the transformer block.\n",
    "* **pool**: The pooling type for obtaining the final classification. It can be either 'cls' (using the class token) or 'mean' (using mean pooling).\n",
    "* **dim_head**: The dimension of each attention head. The total dimension of queries, keys, and values will be dim_head * heads.\n",
    "* **dropout**: The dropout rate applied to the output of both attention and MLP layers in the transformer block. By default, it is set to 0.0 (no dropout).\n",
    "* **emb_dropout**: The embedding dropout rate. It is applied to the output of the patch embeddings and the positional embeddings.\n",
    "\n",
    "The call method is the forward pass of the model. It takes the following parameters:\n",
    "* **img**: This is the input image tensor that will be passed through the ViT model.\n",
    "* **training**: This is a boolean argument that controls whether the model is in training mode or not. It is used to enable or disable certain operations, such as dropout layers, based on the training status. By default, it is set to True, indicating that the model is in training mode.\n",
    "\n",
    "The shape of **img** should be (batch_size, image_height, image_width, num_channels), where:\n",
    "* batch_size: The number of input images in a batch.\n",
    "* image_height: The height of the input image.\n",
    "* image_width: The width of the input image.\n",
    "* num_channels: The number of channels in the input image (e.g., 3 for RGB images)."
   ]
  },
  {
   "cell_type": "code",
   "execution_count": 7,
   "id": "bbdd96b6",
   "metadata": {
    "execution": {
     "iopub.execute_input": "2023-12-18T22:14:57.477054Z",
     "iopub.status.busy": "2023-12-18T22:14:57.476657Z",
     "iopub.status.idle": "2023-12-18T22:14:57.491075Z",
     "shell.execute_reply": "2023-12-18T22:14:57.490286Z"
    },
    "id": "DZT-kOidYu43",
    "papermill": {
     "duration": 0.026755,
     "end_time": "2023-12-18T22:14:57.493113",
     "exception": false,
     "start_time": "2023-12-18T22:14:57.466358",
     "status": "completed"
    },
    "tags": []
   },
   "outputs": [],
   "source": [
    "class ViT(Model):\n",
    "    def __init__(self, image_size, patch_size, num_classes, dim, depth, heads, mlp_dim,\n",
    "                 pool='cls', dim_head=64, dropout=0.0, emb_dropout=0.0):\n",
    "        super(ViT, self).__init__()\n",
    "\n",
    "        image_height, image_width = pair(image_size)\n",
    "        patch_height, patch_width = pair(patch_size)\n",
    "\n",
    "        assert image_height % patch_height == 0 and image_width % patch_width == 0, 'Image dimensions must be divisible by the patch size.'\n",
    "\n",
    "        num_patches = (image_height // patch_height) * (image_width // patch_width)\n",
    "        assert pool in {'cls', 'mean'}, 'pool type must be either cls (cls token) or mean (mean pooling)'\n",
    "\n",
    "        self.patch_embedding = Sequential([\n",
    "            Rearrange('b (h p1) (w p2) c -> b (h w) (p1 p2 c)', p1=patch_height, p2=patch_width),\n",
    "            layers.Dense(units=dim)\n",
    "        ], name='patch_embedding')\n",
    "\n",
    "        self.pos_embedding = tf.Variable(initial_value=tf.random.normal([1, num_patches + 1, dim]))\n",
    "        self.cls_token = tf.Variable(initial_value=tf.random.normal([1, 1, dim]))\n",
    "        self.dropout = layers.Dropout(rate=emb_dropout)\n",
    "\n",
    "        self.transformer = Transformer(dim, depth, heads, dim_head, mlp_dim, dropout)\n",
    "\n",
    "        self.pool = pool\n",
    "\n",
    "        self.mlp_head = Sequential([\n",
    "            layers.LayerNormalization(),\n",
    "            layers.Dense(units=num_classes)\n",
    "        ], name='mlp_head')\n",
    "\n",
    "    def call(self, img, training=True, **kwargs):\n",
    "        x = self.patch_embedding(img)\n",
    "        b, n, d = x.shape\n",
    "\n",
    "        cls_tokens = repeat(self.cls_token, '() n d -> b n d', b=b)\n",
    "        x = tf.concat([cls_tokens, x], axis=1)\n",
    "        x += self.pos_embedding[:, :(n + 1)]\n",
    "        x = self.dropout(x, training=training)\n",
    "\n",
    "        x = self.transformer(x, training=training)\n",
    "\n",
    "        if self.pool == 'mean':\n",
    "            x = tf.reduce_mean(x, axis=1)\n",
    "        else:\n",
    "            x = x[:, 0]\n",
    "\n",
    "        x = self.mlp_head(x)\n",
    "\n",
    "        return x"
   ]
  },
  {
   "cell_type": "markdown",
   "id": "80a88489",
   "metadata": {
    "papermill": {
     "duration": 0.008672,
     "end_time": "2023-12-18T22:14:57.510699",
     "exception": false,
     "start_time": "2023-12-18T22:14:57.502027",
     "status": "completed"
    },
    "tags": []
   },
   "source": [
    "## Load Dataset"
   ]
  },
  {
   "cell_type": "code",
   "execution_count": 8,
   "id": "0e1bc15b",
   "metadata": {
    "execution": {
     "iopub.execute_input": "2023-12-18T22:14:57.530545Z",
     "iopub.status.busy": "2023-12-18T22:14:57.529671Z",
     "iopub.status.idle": "2023-12-18T22:14:57.537475Z",
     "shell.execute_reply": "2023-12-18T22:14:57.536588Z"
    },
    "papermill": {
     "duration": 0.01993,
     "end_time": "2023-12-18T22:14:57.539522",
     "exception": false,
     "start_time": "2023-12-18T22:14:57.519592",
     "status": "completed"
    },
    "tags": []
   },
   "outputs": [],
   "source": [
    "def read_and_preprocess_images(image_folder, target_size):\n",
    "    images = []\n",
    "    labels = []\n",
    "\n",
    "    for label, class_name in enumerate(os.listdir(image_folder)):\n",
    "        class_folder = os.path.join(image_folder, class_name)\n",
    "        for image_name in os.listdir(class_folder):\n",
    "            image_path = os.path.join(class_folder, image_name)\n",
    "            image = cv2.imread(image_path)\n",
    "            image = cv2.resize(image, target_size)  # Resize all images to a target size\n",
    "            image = image.astype(np.float32) / 255.0  # Normalize the image pixel values\n",
    "            images.append(image)\n",
    "            labels.append(label)\n",
    "\n",
    "    return np.array(images), np.array(labels)"
   ]
  },
  {
   "cell_type": "code",
   "execution_count": 9,
   "id": "c6a560b7",
   "metadata": {
    "execution": {
     "iopub.execute_input": "2023-12-18T22:14:57.559586Z",
     "iopub.status.busy": "2023-12-18T22:14:57.558937Z",
     "iopub.status.idle": "2023-12-18T22:17:16.844659Z",
     "shell.execute_reply": "2023-12-18T22:17:16.843327Z"
    },
    "id": "1kDHR0-BYu44",
    "papermill": {
     "duration": 139.299412,
     "end_time": "2023-12-18T22:17:16.847862",
     "exception": false,
     "start_time": "2023-12-18T22:14:57.548450",
     "status": "completed"
    },
    "tags": []
   },
   "outputs": [],
   "source": [
    "# Define the image size for ViT\n",
    "image_size = (128, 128)  # You can choose an appropriate size based on the images\n",
    "\n",
    "# Define the paths to the train and test folders\n",
    "train_folder = \"/kaggle/input/chest-xray-pneumonia/chest_xray/train\"\n",
    "val_folder = \"/kaggle/input/chest-xray-pneumonia/chest_xray/val\"\n",
    "test_folder = \"/kaggle/input/chest-xray-pneumonia/chest_xray/test\"\n",
    "\n",
    "# Read and preprocess images from the train and test folders\n",
    "train_images, train_labels = read_and_preprocess_images(train_folder, image_size)\n",
    "val_images, val_labels = read_and_preprocess_images(val_folder, image_size)\n",
    "test_images, test_labels = read_and_preprocess_images(test_folder, image_size)\n",
    "\n",
    "# Convert labels to one-hot encoded vectors\n",
    "num_classes = 2\n",
    "train_labels = tf.one_hot(train_labels, depth=num_classes)\n",
    "val_labels = tf.one_hot(val_labels, depth=num_classes)\n",
    "test_labels = tf.one_hot(test_labels, depth=num_classes)\n",
    "\n",
    "# Create a dataset from the training images and labels\n",
    "batch_size = 32  # You can choose an appropriate batch size based on your memory capacity\n",
    "train_dataset = tf.data.Dataset.from_tensor_slices((train_images, train_labels))\n",
    "train_dataset = train_dataset.shuffle(buffer_size=train_images.shape[0]).batch(batch_size)"
   ]
  },
  {
   "cell_type": "markdown",
   "id": "5fd69363",
   "metadata": {
    "id": "z425DILGYu43",
    "papermill": {
     "duration": 0.00932,
     "end_time": "2023-12-18T22:17:16.866982",
     "exception": false,
     "start_time": "2023-12-18T22:17:16.857662",
     "status": "completed"
    },
    "tags": []
   },
   "source": [
    "## Training"
   ]
  },
  {
   "cell_type": "code",
   "execution_count": 10,
   "id": "d7bae1ec",
   "metadata": {
    "execution": {
     "iopub.execute_input": "2023-12-18T22:17:16.889003Z",
     "iopub.status.busy": "2023-12-18T22:17:16.887925Z",
     "iopub.status.idle": "2023-12-18T22:17:16.903427Z",
     "shell.execute_reply": "2023-12-18T22:17:16.901077Z"
    },
    "id": "odnEgGK2Yu43",
    "papermill": {
     "duration": 0.029398,
     "end_time": "2023-12-18T22:17:16.906255",
     "exception": false,
     "start_time": "2023-12-18T22:17:16.876857",
     "status": "completed"
    },
    "tags": []
   },
   "outputs": [],
   "source": [
    "def train_model(model, train_dataset, val_images, val_labels, epochs, batch_size):\n",
    "    # Create a SparseCategoricalCrossentropy loss function\n",
    "    loss_fn = tf.keras.losses.SparseCategoricalCrossentropy(from_logits=True)\n",
    "    # Create an Adam optimizer with a learning rate of 1e-4\n",
    "    optimizer = tf.keras.optimizers.Adam(learning_rate=1e-4)\n",
    "\n",
    "    # Define a train_step function, which will be called in each training iteration\n",
    "    def train_step(images, labels):\n",
    "        # Create a GradientTape to compute gradients for trainable variables\n",
    "        with tf.GradientTape() as tape:\n",
    "            # Make predictions using the model with training=True to enable dropout, etc.\n",
    "            predictions = model(images, training=True)\n",
    "            # Compute the loss between the predicted values and the actual labels\n",
    "            loss = loss_fn(labels, predictions)\n",
    "\n",
    "        # Calculate gradients of the loss with respect to trainable variables\n",
    "        gradients = tape.gradient(loss, model.trainable_variables)\n",
    "        # Apply the gradients to update the model's trainable variables\n",
    "        optimizer.apply_gradients(zip(gradients, model.trainable_variables))\n",
    "\n",
    "        # Return the loss for this training step\n",
    "        return loss\n",
    "\n",
    "    # Training loop: run for the specified number of epochs\n",
    "    for epoch in range(epochs):\n",
    "        total_loss = 0\n",
    "        num_batches = 0\n",
    "\n",
    "        # Print the number of epochs\n",
    "        print(f'Epoch {epoch + 1}/{epochs}')\n",
    "\n",
    "        # Iterate over the training dataset in batches\n",
    "        for batch_images, batch_labels in train_dataset:\n",
    "            # Perform a training step for the current batch and get the loss\n",
    "            # Convert one-hot encoded labels to integer labels\n",
    "            labels = tf.argmax(batch_labels, axis=-1)\n",
    "            loss = train_step(batch_images, labels)\n",
    "            # Accumulate the loss for this epoch\n",
    "            total_loss += loss\n",
    "            num_batches += 1\n",
    "\n",
    "        # Calculate the average loss for this epoch\n",
    "        average_loss = total_loss / num_batches\n",
    "        \n",
    "        val_predictions = vit(val_images, training=False)\n",
    "        val_accuracy = tf.reduce_mean(tf.keras.metrics.categorical_accuracy(val_labels, val_predictions))\n",
    "        \n",
    "        # Print the average loss of the model\n",
    "        print(f'Train Loss: {average_loss:.4f}')\n",
    "        print(f'Val Accuracy: {val_accuracy.numpy():.4f}')\n",
    "        \n",
    "        if val_accuracy.numpy() > 0.80:\n",
    "            break\n",
    "\n",
    "    # Return the trained model\n",
    "    return model"
   ]
  },
  {
   "cell_type": "code",
   "execution_count": 11,
   "id": "6728e8c0",
   "metadata": {
    "execution": {
     "iopub.execute_input": "2023-12-18T22:17:16.927402Z",
     "iopub.status.busy": "2023-12-18T22:17:16.927019Z",
     "iopub.status.idle": "2023-12-18T22:25:23.570360Z",
     "shell.execute_reply": "2023-12-18T22:25:23.569545Z"
    },
    "papermill": {
     "duration": 486.665797,
     "end_time": "2023-12-18T22:25:23.581735",
     "exception": false,
     "start_time": "2023-12-18T22:17:16.915938",
     "status": "completed"
    },
    "tags": []
   },
   "outputs": [
    {
     "name": "stdout",
     "output_type": "stream",
     "text": [
      "Epoch 1/10\n",
      "Train Loss: 0.5387\n",
      "Val Accuracy: 0.8125\n"
     ]
    }
   ],
   "source": [
    "# Define the ViT model\n",
    "vit = ViT(\n",
    "    image_size=image_size,\n",
    "    patch_size=16,  # You can choose an appropriate patch size based on the image size and complexity\n",
    "    num_classes=num_classes,\n",
    "    dim=512,\n",
    "    depth=6,\n",
    "    heads=8,\n",
    "    mlp_dim=1024,\n",
    "    dropout=0.1,\n",
    "    emb_dropout=0.1\n",
    ")\n",
    "\n",
    "# Train the model on the new dataset\n",
    "epochs = 10\n",
    "vit = train_model(vit, train_dataset, val_images, val_labels, epochs, batch_size)\n"
   ]
  },
  {
   "cell_type": "markdown",
   "id": "bf397f29",
   "metadata": {
    "papermill": {
     "duration": 0.009129,
     "end_time": "2023-12-18T22:25:23.600409",
     "exception": false,
     "start_time": "2023-12-18T22:25:23.591280",
     "status": "completed"
    },
    "tags": []
   },
   "source": [
    "## Test Model"
   ]
  },
  {
   "cell_type": "code",
   "execution_count": 12,
   "id": "66d59d00",
   "metadata": {
    "execution": {
     "iopub.execute_input": "2023-12-18T22:25:23.620814Z",
     "iopub.status.busy": "2023-12-18T22:25:23.620109Z",
     "iopub.status.idle": "2023-12-18T22:25:42.744679Z",
     "shell.execute_reply": "2023-12-18T22:25:42.743549Z"
    },
    "papermill": {
     "duration": 19.13777,
     "end_time": "2023-12-18T22:25:42.747171",
     "exception": false,
     "start_time": "2023-12-18T22:25:23.609401",
     "status": "completed"
    },
    "tags": []
   },
   "outputs": [
    {
     "name": "stdout",
     "output_type": "stream",
     "text": [
      "Test Accuracy: 0.7372\n"
     ]
    }
   ],
   "source": [
    "# Evaluate the model on the test dataset\n",
    "test_predictions = vit(test_images, training=False)\n",
    "test_accuracy = tf.reduce_mean(tf.keras.metrics.categorical_accuracy(test_labels, test_predictions))\n",
    "print(f'Test Accuracy: {test_accuracy.numpy():.4f}')"
   ]
  }
 ],
 "metadata": {
  "kaggle": {
   "accelerator": "none",
   "dataSources": [
    {
     "datasetId": 17810,
     "sourceId": 23812,
     "sourceType": "datasetVersion"
    }
   ],
   "dockerImageVersionId": 30527,
   "isGpuEnabled": false,
   "isInternetEnabled": true,
   "language": "python",
   "sourceType": "notebook"
  },
  "kernelspec": {
   "display_name": "Python 3",
   "language": "python",
   "name": "python3"
  },
  "language_info": {
   "codemirror_mode": {
    "name": "ipython",
    "version": 3
   },
   "file_extension": ".py",
   "mimetype": "text/x-python",
   "name": "python",
   "nbconvert_exporter": "python",
   "pygments_lexer": "ipython3",
   "version": "3.10.12"
  },
  "papermill": {
   "default_parameters": {},
   "duration": 684.502438,
   "end_time": "2023-12-18T22:25:45.442171",
   "environment_variables": {},
   "exception": null,
   "input_path": "__notebook__.ipynb",
   "output_path": "__notebook__.ipynb",
   "parameters": {},
   "start_time": "2023-12-18T22:14:20.939733",
   "version": "2.4.0"
  }
 },
 "nbformat": 4,
 "nbformat_minor": 5
}
